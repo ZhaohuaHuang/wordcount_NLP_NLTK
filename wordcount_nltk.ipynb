{
 "cells": [
  {
   "cell_type": "markdown",
   "metadata": {},
   "source": [
    "# INFO 208 Lab Exploration (Zhaohua Huang)"
   ]
  },
  {
   "cell_type": "markdown",
   "metadata": {},
   "source": [
    "In this practical lab exploration for wordcount by using python 3,\n",
    "I'm using NLTK package to finish all text manipulations including:\n",
    "filter puncuation, stopwords, lowercase text and stem the text.\n",
    "The python code idea are from Jason Brownlee on [Machine Learning Mastery](https://machinelearningmastery.com/clean-text-machine-learning-python/) and [NLTK website](https://www.nltk.org/api/nltk.html)."
   ]
  },
  {
   "cell_type": "markdown",
   "metadata": {},
   "source": [
    "### Load Data"
   ]
  },
  {
   "cell_type": "markdown",
   "metadata": {},
   "source": [
    "**US constitution** is downloaded from [usconstitution.net](https://www.usconstitution.net/const.txt). The text file is saved as 'US Constitution.txt' in the same directory of this jupter file."
   ]
  },
  {
   "cell_type": "code",
   "execution_count": 1,
   "metadata": {},
   "outputs": [],
   "source": [
    "# Load the data\n",
    "filename='US Constitution.txt'\n",
    "file=open(filename,'rt')\n",
    "text=file.read()\n",
    "file.close()"
   ]
  },
  {
   "cell_type": "markdown",
   "metadata": {},
   "source": [
    "### Split into Words"
   ]
  },
  {
   "cell_type": "markdown",
   "metadata": {},
   "source": [
    "NLTK provide word_tokenize() function for splitting string into tokens\n",
    "\n",
    "It splits tokens based on white space and puctuation. Contractions are \n",
    "split apart. For example, state's is split as 'state' and ''s'."
   ]
  },
  {
   "cell_type": "code",
   "execution_count": 2,
   "metadata": {},
   "outputs": [],
   "source": [
    "#split into words\n",
    "from nltk.tokenize import word_tokenize\n",
    "tokens=word_tokenize(text)"
   ]
  },
  {
   "cell_type": "markdown",
   "metadata": {},
   "source": [
    "### Convert to Lowercase"
   ]
  },
  {
   "cell_type": "code",
   "execution_count": 3,
   "metadata": {},
   "outputs": [],
   "source": [
    "tokens=[w.lower() for w in tokens]"
   ]
  },
  {
   "cell_type": "markdown",
   "metadata": {},
   "source": [
    "### Remove Punctuation"
   ]
  },
  {
   "cell_type": "markdown",
   "metadata": {},
   "source": [
    "we can literate token by using python functon **.isalpha** to keep all the tokens that\n",
    "are all alphbetic."
   ]
  },
  {
   "cell_type": "code",
   "execution_count": 4,
   "metadata": {},
   "outputs": [],
   "source": [
    "words=[word for word in tokens if word.isalpha()]"
   ]
  },
  {
   "cell_type": "markdown",
   "metadata": {},
   "source": [
    "### Remove Stop Words"
   ]
  },
  {
   "cell_type": "markdown",
   "metadata": {},
   "source": [
    "NLTK provides a list of stop words in different languages, such as 'english'.\n",
    "If we want to add more into this list, we can use **stop_words.update()** function.\n",
    "(Since I want to keep my results the same as pig latin wordcount, in the code part,\n",
    "I use comments to show how to do it)"
   ]
  },
  {
   "cell_type": "code",
   "execution_count": 5,
   "metadata": {},
   "outputs": [],
   "source": [
    "#filter out stop words\n",
    "from nltk.corpus import stopwords\n",
    "stop_words=set(stopwords.words('english'))\n",
    "#updates stop words, add more into list of stop_words\n",
    "#stop_words.update(['states','shall','united','state',\\\n",
    "                   #'may','one','time','within',\\\n",
    "                   #'two','http'])\n",
    "words=[w for w in words if not w in stop_words]"
   ]
  },
  {
   "cell_type": "code",
   "execution_count": 6,
   "metadata": {
    "scrolled": true
   },
   "outputs": [
    {
     "name": "stdout",
     "output_type": "stream",
     "text": [
      "{'isn', 'her', 'all', \"you'll\", 'further', 'so', 'over', 'hadn', 'through', 'your', 'don', 'by', 'between', 'when', 'where', 'against', 'if', 'below', 'how', 'its', 'been', 'a', 'or', 'some', 'on', 'weren', 'which', 'because', 't', 'off', 'yourself', 'those', 'won', 'our', 'both', 'own', \"haven't\", 'just', 'ours', 'wouldn', \"you're\", 'yours', 'for', 'did', 'to', 'hasn', 'yourselves', 'during', 'no', 'then', 've', 'the', \"that'll\", 'were', 'from', 'who', 'shan', 'again', 'wasn', \"wasn't\", 'than', 'out', 'him', 'what', 'that', \"couldn't\", 'more', \"hasn't\", 'didn', 'couldn', \"needn't\", 'my', 'having', 'd', 'me', \"you'd\", 'their', 'now', 'll', 'can', 'ain', 'be', 'hers', 'itself', \"don't\", 'they', 'while', 'only', 'mustn', 'of', \"you've\", 'have', 'being', 'at', 'shouldn', 'm', 'before', 'and', 'you', 'it', 'has', 'does', 'after', \"she's\", 're', \"hadn't\", 'very', 'with', 'each', 'these', 'o', \"doesn't\", 'needn', \"it's\", 'why', \"weren't\", \"mightn't\", 'into', 'here', 'doesn', 'other', \"wouldn't\", 'had', 'do', \"shan't\", 'in', 'myself', 'will', \"mustn't\", 'ourselves', 'ma', 'such', 'i', 'same', 'y', 'them', \"shouldn't\", 'nor', 'about', 'until', 'whom', 'as', \"should've\", 'should', \"aren't\", 'herself', \"won't\", 'haven', 'too', 's', 'above', 'aren', 'any', 'theirs', 'but', 'he', \"didn't\", 'doing', 'there', 'up', 'this', 'most', 'she', \"isn't\", 'mightn', 'once', 'we', 'was', 'his', 'not', 'under', 'an', 'themselves', 'is', 'down', 'few', 'himself', 'am', 'are'}\n"
     ]
    }
   ],
   "source": [
    "print(stop_words)"
   ]
  },
  {
   "cell_type": "markdown",
   "metadata": {},
   "source": [
    "### Count Frequency"
   ]
  },
  {
   "cell_type": "markdown",
   "metadata": {},
   "source": [
    "NLTK provides class **FreDist** to calculate words' frequencies. It returns a dictonary, where keys are words in the text and values are the frequecies associated that word."
   ]
  },
  {
   "cell_type": "code",
   "execution_count": 7,
   "metadata": {},
   "outputs": [
    {
     "name": "stdout",
     "output_type": "stream",
     "text": [
      "shall:306\n",
      "states:129\n",
      "president:109\n",
      "united:85\n",
      "state:79\n",
      "congress:60\n",
      "may:44\n",
      "law:39\n",
      "office:37\n",
      "amendment:35\n",
      "person:34\n",
      "house:33\n",
      "representatives:29\n",
      "article:28\n",
      "senate:28\n",
      "one:27\n",
      "constitution:26\n",
      "number:25\n",
      "vice:24\n",
      "section:22\n"
     ]
    }
   ],
   "source": [
    "# calcualte frequency \n",
    "import nltk\n",
    "from nltk.probability import FreqDist\n",
    "def frequency(text):\n",
    "    fdist=nltk.FreqDist(text)\n",
    "    for word, frequency in fdist.most_common(20):\n",
    "        print(f'{word}:{frequency}')\n",
    "frequency(words)"
   ]
  },
  {
   "cell_type": "markdown",
   "metadata": {},
   "source": [
    "### Install and Display Wordcloud"
   ]
  },
  {
   "cell_type": "markdown",
   "metadata": {},
   "source": [
    "Wordcloud is a popular way to display the importance of words in a collection of texts. Python library has build-in word cloud package that we can call directly. The only required argument for wordcloud object is the text, since I break the text into words in previous steps, here I use **' '.join(text)** to join words with space into text."
   ]
  },
  {
   "cell_type": "code",
   "execution_count": 8,
   "metadata": {
    "scrolled": true
   },
   "outputs": [
    {
     "name": "stdout",
     "output_type": "stream",
     "text": [
      "Requirement already satisfied: wordcloud in /Users/zhaohuahuang/anaconda3/lib/python3.7/site-packages (1.6.0)\n",
      "Requirement already satisfied: numpy>=1.6.1 in /Users/zhaohuahuang/anaconda3/lib/python3.7/site-packages (from wordcloud) (1.16.4)\n",
      "Requirement already satisfied: pillow in /Users/zhaohuahuang/anaconda3/lib/python3.7/site-packages (from wordcloud) (6.1.0)\n",
      "Requirement already satisfied: matplotlib in /Users/zhaohuahuang/anaconda3/lib/python3.7/site-packages (from wordcloud) (3.1.0)\n",
      "Requirement already satisfied: cycler>=0.10 in /Users/zhaohuahuang/anaconda3/lib/python3.7/site-packages (from matplotlib->wordcloud) (0.10.0)\n",
      "Requirement already satisfied: kiwisolver>=1.0.1 in /Users/zhaohuahuang/anaconda3/lib/python3.7/site-packages (from matplotlib->wordcloud) (1.1.0)\n",
      "Requirement already satisfied: pyparsing!=2.0.4,!=2.1.2,!=2.1.6,>=2.0.1 in /Users/zhaohuahuang/anaconda3/lib/python3.7/site-packages (from matplotlib->wordcloud) (2.4.0)\n",
      "Requirement already satisfied: python-dateutil>=2.1 in /Users/zhaohuahuang/anaconda3/lib/python3.7/site-packages (from matplotlib->wordcloud) (2.8.0)\n",
      "Requirement already satisfied: six in /Users/zhaohuahuang/anaconda3/lib/python3.7/site-packages (from cycler>=0.10->matplotlib->wordcloud) (1.12.0)\n",
      "Requirement already satisfied: setuptools in /Users/zhaohuahuang/anaconda3/lib/python3.7/site-packages (from kiwisolver>=1.0.1->matplotlib->wordcloud) (41.0.1)\n",
      "Note: you may need to restart the kernel to use updated packages.\n"
     ]
    }
   ],
   "source": [
    "pip install wordcloud"
   ]
  },
  {
   "cell_type": "code",
   "execution_count": 9,
   "metadata": {},
   "outputs": [
    {
     "data": {
      "image/png": "[encoded data removed]",
      "text/plain": [
       "<Figure size 432x288 with 1 Axes>"
      ]
     },
     "metadata": {
      "needs_background": "light"
     },
     "output_type": "display_data"
    }
   ],
   "source": [
    "from wordcloud import WordCloud\n",
    "import matplotlib.pyplot as plt\n",
    "%matplotlib inline\n",
    "\n",
    "def wordcloud(text):\n",
    "    wc=WordCloud(background_color='black',stopwords=stop_words,\\\n",
    "             max_words=20,width=400,height=200, scale=3,\n",
    "             random_state=1).generate(' '.join(text))\n",
    "    plt.imshow(wc)\n",
    "    plt.axis(\"off\")\n",
    "    plt.show()\n",
    "wordcloud(words)"
   ]
  },
  {
   "cell_type": "markdown",
   "metadata": {},
   "source": [
    "### Stemming the Text"
   ]
  },
  {
   "cell_type": "markdown",
   "metadata": {},
   "source": [
    "NLTK provides class **PorterStemmer** for stemming text, this is a popular and long-standing stemming algorithms method. But the results seemed a little wired: 'president' turns into 'presid', 'libertity' turns to 'liberti' and ect. So I computer stemmed text frequencies and wordcloud as comparisons with non-stemmed text."
   ]
  },
  {
   "cell_type": "code",
   "execution_count": 10,
   "metadata": {},
   "outputs": [
    {
     "name": "stdout",
     "output_type": "stream",
     "text": [
      "['provid', 'note', 'repeal', 'text', 'note', 'version', 'spell', 'error', 'correct', 'version', 'uncorrect', 'annot', 'version', 'constitut', 'visit', 'http', 'peopl', 'unit', 'state', 'order', 'form', 'perfect', 'union', 'establish', 'justic', 'insur', 'domest', 'tranquil', 'provid', 'common', 'defenc', 'promot', 'gener', 'welfar', 'secur', 'bless', 'liberti', 'poster', 'ordain', 'establish', 'constitut', 'unit', 'state', 'america', 'articl', 'section', 'legisl', 'power', 'herein', 'grant', 'shall', 'vest', 'congress', 'unit', 'state', 'shall', 'consist', 'senat', 'hous', 'repres', 'section', 'hous', 'repres', 'shall', 'compos', 'member', 'chosen', 'everi', 'second', 'year', 'peopl', 'sever', 'state', 'elector', 'state', 'shall', 'qualif', 'requisit', 'elector', 'numer', 'branch', 'state', 'legislatur', 'person', 'shall', 'repres', 'shall', 'attain', 'age', 'twenti', 'five', 'year', 'seven', 'year', 'citizen', 'unit', 'state', 'shall', 'elect', 'inhabit']\n"
     ]
    }
   ],
   "source": [
    "#stemming of words\n",
    "from nltk.stem.porter import PorterStemmer\n",
    "porter=PorterStemmer()\n",
    "stemmed=[porter.stem(word) for word in words]\n",
    "print(stemmed[:100])"
   ]
  },
  {
   "cell_type": "code",
   "execution_count": 11,
   "metadata": {},
   "outputs": [
    {
     "name": "stdout",
     "output_type": "stream",
     "text": [
      "shall:306\n",
      "state:210\n",
      "presid:110\n",
      "unit:85\n",
      "congress:60\n",
      "offic:57\n",
      "law:52\n",
      "senat:49\n",
      "person:49\n",
      "may:44\n",
      "hous:41\n",
      "amend:38\n",
      "vote:37\n",
      "power:35\n",
      "repres:35\n",
      "year:33\n",
      "constitut:31\n",
      "articl:29\n",
      "number:29\n",
      "elect:27\n"
     ]
    }
   ],
   "source": [
    "frequency(stemmed)"
   ]
  },
  {
   "cell_type": "code",
   "execution_count": 12,
   "metadata": {},
   "outputs": [
    {
     "data": {
      "image/png": "[encoded data removed]",
      "text/plain": [
       "<Figure size 432x288 with 1 Axes>"
      ]
     },
     "metadata": {
      "needs_background": "light"
     },
     "output_type": "display_data"
    }
   ],
   "source": [
    "wordcloud(stemmed)"
   ]
  },
  {
   "cell_type": "code",
   "execution_count": null,
   "metadata": {},
   "outputs": [],
   "source": []
  }
 ],
 "metadata": {
  "kernelspec": {
   "display_name": "Python 3",
   "language": "python",
   "name": "python3"
  },
  "language_info": {
   "codemirror_mode": {
    "name": "ipython",
    "version": 3
   },
   "file_extension": ".py",
   "mimetype": "text/x-python",
   "name": "python",
   "nbconvert_exporter": "python",
   "pygments_lexer": "ipython3",
   "version": "3.7.3"
  }
 },
 "nbformat": 4,
 "nbformat_minor": 2
}
